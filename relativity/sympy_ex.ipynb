{
 "cells": [
  {
   "cell_type": "markdown",
   "metadata": {},
   "source": [
    "# Transformação de Lorentz do tensor Eletromagnético\n",
    "\n",
    "Neste documento, são discutidas algumas relações interessantes do tensor eletromagnético. Tais relações são apresentadas no livro de Rybicki & Lightman (RL), e são aqui melhor detalhadas. Em particular, a álgebra matricial é calculada utilizando a biblioteca SymPy do Python. O SymPy é uma poderosa ferramenta para matemática simbólica, e auxilia enormemente nas trabalhosas operações matriciais necessárias.\n",
    "\n",
    "Sugestão para primeiros passos com o SymPy: https://scipy-lectures.org/packages/sympy.html"
   ]
  },
  {
   "cell_type": "markdown",
   "metadata": {},
   "source": [
    "Primeiramente, deve-se incluir as bibliotecas que serão utilizadas:"
   ]
  },
  {
   "cell_type": "code",
   "execution_count": 1,
   "metadata": {},
   "outputs": [],
   "source": [
    "import numpy as np\n",
    "import sympy as sym"
   ]
  },
  {
   "cell_type": "markdown",
   "metadata": {},
   "source": [
    "No SymPy, a definição de símbolos é feita com a seguinte sintaxe:"
   ]
  },
  {
   "cell_type": "code",
   "execution_count": 2,
   "metadata": {},
   "outputs": [],
   "source": [
    "gam, bet, Ex, Ey, Ez, Bx, By, Bz = sym.symbols('gamma, beta, E_x, E_y, E_z, B_x, B_y, B_z')"
   ]
  },
  {
   "cell_type": "markdown",
   "metadata": {},
   "source": [
    "A métrica de Minkowski ($g_{\\mu\\nu}$, Eq. 4.16) e a transformação de Lorentz ($\\Lambda^{\\mu}_{\\,\\nu}$, Eq. 4.20) são dados, respectivamente, por:"
   ]
  },
  {
   "cell_type": "code",
   "execution_count": 3,
   "metadata": {},
   "outputs": [
    {
     "name": "stdout",
     "output_type": "stream",
     "text": [
      "g = \n",
      "⎡-1  0  0  0⎤\n",
      "⎢           ⎥\n",
      "⎢0   1  0  0⎥\n",
      "⎢           ⎥\n",
      "⎢0   0  1  0⎥\n",
      "⎢           ⎥\n",
      "⎣0   0  0  1⎦\n",
      "L = \n",
      "⎡ γ    -β⋅γ  0  0⎤\n",
      "⎢                ⎥\n",
      "⎢-β⋅γ   γ    0  0⎥\n",
      "⎢                ⎥\n",
      "⎢ 0     0    1  0⎥\n",
      "⎢                ⎥\n",
      "⎣ 0     0    0  1⎦\n"
     ]
    }
   ],
   "source": [
    "g = sym.Matrix([[-1, 0, 0, 0], [0, 1, 0, 0], [0, 0, 1, 0], [0, 0, 0, 1]])\n",
    "L = sym.Matrix([[gam, -bet*gam, 0, 0], [-bet*gam, gam, 0, 0], [0, 0, 1, 0], [0, 0, 0, 1]])\n",
    "print('g = ')\n",
    "sym.pprint(g)\n",
    "print('L = ')\n",
    "sym.pprint(L)"
   ]
  },
  {
   "cell_type": "markdown",
   "metadata": {},
   "source": [
    "Consequentemente, a transformação de Lorentz inversa, $\\tilde{\\Lambda}_{\\mu}^{\\,\\nu}=g_{\\mu\\tau}\\,\\Lambda^{\\tau}_{\\sigma}\\,g^{\\sigma\\nu}$ (Eq. 4.25), tem a forma"
   ]
  },
  {
   "cell_type": "code",
   "execution_count": 4,
   "metadata": {},
   "outputs": [
    {
     "name": "stdout",
     "output_type": "stream",
     "text": [
      "Ltil = \n",
      "⎡ γ   β⋅γ  0  0⎤\n",
      "⎢              ⎥\n",
      "⎢β⋅γ   γ   0  0⎥\n",
      "⎢              ⎥\n",
      "⎢ 0    0   1  0⎥\n",
      "⎢              ⎥\n",
      "⎣ 0    0   0  1⎦\n"
     ]
    }
   ],
   "source": [
    "Ltil = g * L * g.transpose()\n",
    "print('Ltil = ')\n",
    "sym.pprint(Ltil)"
   ]
  },
  {
   "cell_type": "markdown",
   "metadata": {},
   "source": [
    "Note que $g=g^T$, de forma que a transposta tomada acima apenas para maior clareza. A forma covariante do tensor eletromagnético é dada por (Eq. 4.59):"
   ]
  },
  {
   "cell_type": "code",
   "execution_count": 5,
   "metadata": {},
   "outputs": [
    {
     "name": "stdout",
     "output_type": "stream",
     "text": [
      "Fcov = \n",
      "⎡ 0   -Eₓ   -E_y  -E_z⎤\n",
      "⎢                     ⎥\n",
      "⎢Eₓ    0    B_z   -B_y⎥\n",
      "⎢                     ⎥\n",
      "⎢E_y  -B_z   0     Bₓ ⎥\n",
      "⎢                     ⎥\n",
      "⎣E_z  B_y   -Bₓ    0  ⎦\n"
     ]
    }
   ],
   "source": [
    "Fcov = sym.Matrix([[0, -Ex, -Ey, -Ez], [Ex, 0, Bz, -By], [Ey, -Bz, 0, Bx], [Ez, By, -Bx, 0]])\n",
    "print('Fcov = ')\n",
    "sym.pprint(Fcov)"
   ]
  },
  {
   "cell_type": "markdown",
   "metadata": {},
   "source": [
    "Sua versão contravariante pode ser calculada com $F^{\\mu\\nu}=g^{\\mu\\alpha}g^{\\nu\\beta}\\,F_{\\alpha\\beta}$ (Eqs. 4.31, 4.48):"
   ]
  },
  {
   "cell_type": "code",
   "execution_count": 6,
   "metadata": {},
   "outputs": [
    {
     "name": "stdout",
     "output_type": "stream",
     "text": [
      "Fcont = \n",
      "⎡ 0     Eₓ   E_y  E_z ⎤\n",
      "⎢                     ⎥\n",
      "⎢-Eₓ    0    B_z  -B_y⎥\n",
      "⎢                     ⎥\n",
      "⎢-E_y  -B_z   0    Bₓ ⎥\n",
      "⎢                     ⎥\n",
      "⎣-E_z  B_y   -Bₓ   0  ⎦\n"
     ]
    }
   ],
   "source": [
    "Fcont = g * Fcov * g.transpose()\n",
    "print('Fcont = ')\n",
    "sym.pprint(Fcont)"
   ]
  },
  {
   "cell_type": "markdown",
   "metadata": {},
   "source": [
    "A transformação de Lorentz do tensor eletromagnético segue a relação $F_{\\mu\\nu}'=\\tilde{\\Lambda}_{\\mu}^{\\alpha}\\tilde{\\Lambda}_{\\nu}^{\\beta}\\,F_{\\alpha\\beta}$ (Eq. 4.64)"
   ]
  },
  {
   "cell_type": "code",
   "execution_count": 7,
   "metadata": {},
   "outputs": [
    {
     "name": "stdout",
     "output_type": "stream",
     "text": [
      "Fcov' = \n",
      "⎡                       2 ⎛ 2    ⎞                                    ⎤\n",
      "⎢       0           Eₓ⋅γ ⋅⎝β  - 1⎠   γ⋅(B_z⋅β - E_y)  -γ⋅(B_y⋅β + E_z)⎥\n",
      "⎢                                                                     ⎥\n",
      "⎢     2 ⎛     2⎞                                                      ⎥\n",
      "⎢ Eₓ⋅γ ⋅⎝1 - β ⎠          0          γ⋅(B_z - E_y⋅β)  -γ⋅(B_y + E_z⋅β)⎥\n",
      "⎢                                                                     ⎥\n",
      "⎢γ⋅(-B_z⋅β + E_y)  γ⋅(-B_z + E_y⋅β)         0                Bₓ       ⎥\n",
      "⎢                                                                     ⎥\n",
      "⎣γ⋅(B_y⋅β + E_z)   γ⋅(B_y + E_z⋅β)         -Bₓ               0        ⎦\n"
     ]
    }
   ],
   "source": [
    "Fcov_primed = Ltil * Fcov * Ltil.transpose()\n",
    "Fcov_primed.simplify()\n",
    "print(\"Fcov' = \")\n",
    "sym.pprint(Fcov_primed)"
   ]
  },
  {
   "cell_type": "markdown",
   "metadata": {},
   "source": [
    "Note que $\\gamma^2 \\, (\\beta^2-1) = -1$, de forma que a expressão acima corresponde a"
   ]
  },
  {
   "cell_type": "markdown",
   "metadata": {},
   "source": [
    "\\begin{equation}\n",
    "F'_{\\mu\\nu} =\n",
    "\\begin{pmatrix}\n",
    "0 & -E_{x} & \\gamma \\left(B_{z} \\beta - E_{y}\\right) & - \\gamma \\left(B_{y} \\beta + E_{z}\\right)\\\\\n",
    "E_{x} & 0 & \\gamma \\left(B_{z} - E_{y} \\beta\\right) & - \\gamma \\left(B_{y} + E_{z} \\beta\\right)\\\\\n",
    "\\gamma \\left(- B_{z} \\beta + E_{y}\\right) & \\gamma \\left(- B_{z} + E_{y} \\beta\\right) & 0 & B_{x}\\\\\n",
    "\\gamma \\left(B_{y} \\beta + E_{z}\\right) & \\gamma \\left(B_{y} + E_{z} \\beta\\right) & - B_{x} & 0\n",
    "\\end{pmatrix}\n",
    "\\end{equation}"
   ]
  },
  {
   "cell_type": "markdown",
   "metadata": {},
   "source": [
    "Comparando este resultado com $F_{\\mu\\nu}$ mais acima, temos a dedução das Eqs. 4.65 de RL. Relembrando que a velocidade $v=c\\beta$ está na direção $x$, temos que as componentes \"paralelas\" são aquelas na direção $x$, e as componentes \"perpendiculares\" correspondem às direções $y$ e $z$.\n",
    "\n",
    "\\begin{align}\n",
    "E'_{\\|} &= E_{\\|} & B'_{\\|} &= B_{\\|} \\\\\n",
    "E'_{\\perp} &= \\gamma(E_{\\perp} + \\beta\\times B) & B'_{\\perp} &= \\gamma(B_{\\perp} - \\beta\\times E)\n",
    "\\end{align}\n",
    "\n",
    "Diferentemente de comprimentos (contração espacial), é a componente dos campos perpendicular ao movimento que se modifica em outros referenciais."
   ]
  },
  {
   "cell_type": "markdown",
   "metadata": {},
   "source": [
    "O produto escalar duplo (double dot/inner product) do tensor eletromagnético, $F_{\\mu\\nu}\\,F^{\\mu\\nu}$ é também um invariante de Lorentz. Note que\n",
    "\n",
    "$A_{\\mu\\nu}\\,B^{\\mu\\nu}\\equiv A:B = \\mathrm{Tr}\n",
    "(A\\,B^T)$\n",
    "\n",
    "Portanto,"
   ]
  },
  {
   "cell_type": "code",
   "execution_count": 8,
   "metadata": {},
   "outputs": [
    {
     "name": "stdout",
     "output_type": "stream",
     "text": [
      "    2        2        2       2        2        2\n",
      "2⋅Bₓ  + 2⋅B_y  + 2⋅B_z  - 2⋅Eₓ  - 2⋅E_y  - 2⋅E_z \n"
     ]
    }
   ],
   "source": [
    "sym.pprint(np.trace(Fcov * Fcont.transpose()))"
   ]
  },
  {
   "cell_type": "markdown",
   "metadata": {},
   "source": [
    "Em notação compacta, este invariante corresponde a $2(B^2-E^2)$."
   ]
  },
  {
   "cell_type": "code",
   "execution_count": null,
   "metadata": {},
   "outputs": [],
   "source": []
  }
 ],
 "metadata": {
  "kernelspec": {
   "display_name": "Python 3",
   "language": "python",
   "name": "python3"
  },
  "language_info": {
   "codemirror_mode": {
    "name": "ipython",
    "version": 3
   },
   "file_extension": ".py",
   "mimetype": "text/x-python",
   "name": "python",
   "nbconvert_exporter": "python",
   "pygments_lexer": "ipython3",
   "version": "3.8.2"
  }
 },
 "nbformat": 4,
 "nbformat_minor": 4
}
