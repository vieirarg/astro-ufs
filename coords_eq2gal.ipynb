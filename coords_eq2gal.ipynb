{
 "cells": [
  {
   "cell_type": "markdown",
   "metadata": {},
   "source": [
    "# Coordenadas Equatoriais para Galácticas"
   ]
  },
  {
   "cell_type": "markdown",
   "metadata": {},
   "source": [
    "https://learn.astropy.org/rst-tutorials/Coordinates-Transform.html"
   ]
  },
  {
   "cell_type": "code",
   "execution_count": 1,
   "metadata": {},
   "outputs": [],
   "source": [
    "# importar bibliotecas astropy\n",
    "from astropy import units as u\n",
    "from astropy.coordinates import SkyCoord"
   ]
  },
  {
   "cell_type": "code",
   "execution_count": 2,
   "metadata": {},
   "outputs": [],
   "source": [
    "# inserir coordenadas equatoriais (duas maneiras diferentes abaixo)\n",
    "alf_eri = SkyCoord(24.42852283*u.deg, -57.2367528*u.deg, frame='icrs')\n",
    "alf_eri = SkyCoord('01h37m42.84548s', '-57d14m12.3101s', frame='icrs')"
   ]
  },
  {
   "cell_type": "code",
   "execution_count": 6,
   "metadata": {},
   "outputs": [
    {
     "name": "stdout",
     "output_type": "stream",
     "text": [
      "24d25m42.6822s\n",
      "-57d14m12.3101s\n"
     ]
    }
   ],
   "source": [
    "# exemplo de como escrever cada componente\n",
    "print(alf_eri.ra)\n",
    "print(alf_eri.dec)"
   ]
  },
  {
   "cell_type": "code",
   "execution_count": 7,
   "metadata": {},
   "outputs": [
    {
     "name": "stdout",
     "output_type": "stream",
     "text": [
      "<SkyCoord (Galactic): (l, b) in deg\n",
      "    (290.84124169, -58.79200969)>\n"
     ]
    }
   ],
   "source": [
    "# transformação para coordenadas galácticas\n",
    "alf_eri_gal = alf_eri.galactic\n",
    "print(alf_eri_gal)"
   ]
  },
  {
   "cell_type": "code",
   "execution_count": null,
   "metadata": {},
   "outputs": [],
   "source": []
  }
 ],
 "metadata": {
  "kernelspec": {
   "display_name": "Python 3",
   "language": "python",
   "name": "python3"
  },
  "language_info": {
   "codemirror_mode": {
    "name": "ipython",
    "version": 3
   },
   "file_extension": ".py",
   "mimetype": "text/x-python",
   "name": "python",
   "nbconvert_exporter": "python",
   "pygments_lexer": "ipython3",
   "version": "3.8.5"
  }
 },
 "nbformat": 4,
 "nbformat_minor": 4
}
